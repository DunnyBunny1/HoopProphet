{
 "cells": [
  {
   "cell_type": "code",
   "execution_count": 3,
   "metadata": {},
   "outputs": [],
   "source": [
    "import requests\n",
    "from bs4 import BeautifulSoup\n",
    "from scraping_utils import make_http_req\n",
    "import pandas as pd\n",
    "from scraping_utils import years\n",
    "from io import StringIO"
   ]
  },
  {
   "cell_type": "code",
   "execution_count": 2,
   "metadata": {},
   "outputs": [],
   "source": [
    "def extract_yearly_mvp_table(page):\n",
    "    \"\"\"\n",
    "    Extracts the MVP table from the given HTML page. Strips the web page of\n",
    "    unnecessary information, return the relevant mvp table for the page.\n",
    "    :param page: HTML content of the web page.\n",
    "    :return: BeautifulSoup object containing the MVP table.\n",
    "    \"\"\"\n",
    "    soup = BeautifulSoup(page, 'html.parser')\n",
    "    # Remove the 0th table row - it contains unnecessary info for our data\n",
    "    soup.find('tr', class_='over_header').decompose()\n",
    "    # Extract the specific table containing MVP voting data\n",
    "    mvp_table = soup.find(id='mvp')\n",
    "    return mvp_table"
   ]
  },
  {
   "cell_type": "code",
   "execution_count": 3,
   "metadata": {},
   "outputs": [],
   "source": [
    "# Download the MVP Voting Data for each player for each year  \n",
    "years = [year for year in range(1991, 2023)]\n",
    "url_template : str  = 'https://www.basketball-reference.com/awards/awards_{}.html'\n",
    "\n",
    "for year in years: \n",
    "    url = url_template.format(year)\n",
    "    file_path = '../data/yearly_mvp_data/{}.html'.format(year)\n",
    "    try: \n",
    "        with open(file_path, 'x', encoding='utf-8') as f:\n",
    "            url = url_template.format(year)\n",
    "            # Make  a GET request to the URL\n",
    "            response = make_http_req(url)\n",
    "            # Save the html table into a file in our yearly_mvp_data folder\n",
    "            mvp_table_html = extract_yearly_mvp_table(response.text)\n",
    "            # Write the page's HTML to a file so we can view it later\n",
    "            f.write(str(mvp_table_html))\n",
    "    except FileExistsError: # Indicates we have alrady scraped the data for this year\n",
    "            # If the file already exists, we can simply continue\n",
    "            continue"
   ]
  },
  {
   "cell_type": "code",
   "execution_count": 4,
   "metadata": {},
   "outputs": [],
   "source": [
    "def load_yearly_mvp_data(year):\n",
    "    \"\"\"\n",
    "    Load MVP data from an HTML file for a specific year.\n",
    "\n",
    "    :param year: Year for data loading.\n",
    "    :return a DataFrame formed by reading the scraped and downloaded HTML table\n",
    "    corresponding to the given year\n",
    "    :rtype pd.DataFrame\n",
    "    :raises FileNotFoundError: If HTML file is not found.\n",
    "    :raises ValueError: If no tables are in the HTML file.\n",
    "    \"\"\"\n",
    "    file_path_template = '../data/yearly_mvp_data/{}.html'\n",
    "    file_path = file_path_template.format(year)\n",
    "    try:\n",
    "        # Load the data from the html for each year into a pandas DataFrame\n",
    "        # Wrap the raw HTML in stringIO before parsing for error-free pandas reading\n",
    "        with open(file_path, 'r', encoding='utf-8') as f:\n",
    "            player_table_html = f.read()\n",
    "            # Wrap the raw HTML in stringIO before parsing for error-free pandas reading\n",
    "            return pd.read_html(StringIO(str(player_table_html)))[0]\n",
    "    except FileNotFoundError:\n",
    "        raise FileNotFoundError(f\"File for year {year} not found.\")\n",
    "    except ValueError:\n",
    "        raise ValueError(f\"No table found in file for year {year}.\")"
   ]
  },
  {
   "cell_type": "code",
   "execution_count": 5,
   "metadata": {},
   "outputs": [],
   "source": [
    "\"\"\"\n",
    "Process and combine yearly MVP data from HTML files into a single DataFrame.\n",
    "Create a dataframe formed by concatenating each yearly MVP dataframe.\n",
    "Each yearly MVP dataframe is formed by reading the html table for the year\n",
    "Save the dataframe as a CSV\n",
    "\"\"\"\n",
    "dataframe_list = []  # Store a list to hold all of our dataframes\n",
    "for year in years:\n",
    "    curr_df = load_yearly_mvp_data(year)\n",
    "    # Add a year column to the current df\n",
    "    curr_df['Year'] = year\n",
    "    dataframe_list.append(curr_df)\n",
    "# Combine all yearly DataFrames into a single DataFrame\n",
    "mvp_df: pd.DataFrame = pd.concat(dataframe_list)\n",
    "# Now we have one data frame with all mvp voting from 1991 to 2022\n",
    "# Store the data in csv format\n",
    "mvp_df.to_csv('../data/mvp_voting_1991-2022.csv',index=False)"
   ]
  }
 ],
 "metadata": {
  "kernelspec": {
   "display_name": "venv",
   "language": "python",
   "name": "python3"
  },
  "language_info": {
   "codemirror_mode": {
    "name": "ipython",
    "version": 3
   },
   "file_extension": ".py",
   "mimetype": "text/x-python",
   "name": "python",
   "nbconvert_exporter": "python",
   "pygments_lexer": "ipython3",
   "version": "3.10.4"
  }
 },
 "nbformat": 4,
 "nbformat_minor": 2
}
