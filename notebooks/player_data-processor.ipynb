{
 "cells": [
  {
   "cell_type": "code",
   "execution_count": 14,
   "metadata": {},
   "outputs": [],
   "source": [
    "from selenium import webdriver\n",
    "from selenium.webdriver.chrome.service import Service\n",
    "from bs4 import BeautifulSoup\n",
    "from scraping_utils import years\n",
    "import pandas as pd\n",
    "import time\n",
    "from io import StringIO"
   ]
  },
  {
   "cell_type": "code",
   "execution_count": null,
   "metadata": {},
   "outputs": [],
   "source": [
    "def parse_html(html):\n",
    "    \"\"\"\n",
    "    Extracts the player stats table from the given HTML page. Strips the web\n",
    "    page of unnecessary info, returning the relevant mvp table for the page.\n",
    "    :param page: HTML content of the web page.\n",
    "    :return: BeautifulSoup object containing the player table.\n",
    "    \"\"\"\n",
    "    soup = BeautifulSoup(html, 'html.parser')\n",
    "    # Remove redundant rows that repeat row 0 (the list of cols)\n",
    "    soup.find('tr', class_='thead').decompose()\n",
    "    # Extract the specific table containing the table with per game stats for\n",
    "    # each player for the given year\n",
    "    player_table = soup.find(id='per_game_stats')\n",
    "    return player_table"
   ]
  },
  {
   "cell_type": "code",
   "execution_count": 4,
   "metadata": {},
   "outputs": [],
   "source": [
    "def extract_yearly_player_table(url):\n",
    "    \"\"\"\n",
    "    Initiates chrome instnances with selenium to obtain the full HTML player stats table,\n",
    "    parses this HTML with BeautifulSoup and returns a cleaned version\n",
    "    :param url: the url we want to scrape data from\n",
    "    :return: the HTML string of the specific table we'd like to retrieve \n",
    "    \"\"\"\n",
    "    chrome_driver_path = \"C:/Users/bmurr/Downloads/PersonalProjects/NBA_MVP_Predictor/venv/Lib/site-packages/seleniumbase/drivers/chromedriver.exe\"\n",
    "    # Create a service to start and manage the chrome driver server\n",
    "    service = Service(chrome_driver_path)\n",
    "    # Create a driver to control our browser\n",
    "    driver = webdriver.Chrome(service=service)\n",
    "\n",
    "    driver.get(url=url)  # Render our URL in our chrome browser\n",
    "\n",
    "    # Run JS in the browser to render full table\n",
    "    # JS code means: \"scroll all the way down so that the full table renders\"\n",
    "    driver.execute_script(\"window.scroll(1,10000)\")\n",
    "\n",
    "    time.sleep(2)  # Give the browser appropriate time to execute the script\n",
    "\n",
    "    html = driver.page_source  # Get the fully rendered HTML\n",
    "    return parse_html(html)"
   ]
  },
  {
   "cell_type": "code",
   "execution_count": 5,
   "metadata": {},
   "outputs": [],
   "source": [
    "\"\"\"\n",
    "For each year we are scraping data for, grab the player statistics table from basketball reference\n",
    "- Use selenium to run JS to load the full player statistics page's HTML\n",
    "- Parse the fully-rendered HTML to extract the player-per-game stats table\n",
    "- Download the table to files in our data directory\n",
    "\"\"\"\n",
    "base_url = 'https://www.basketball-reference.com/leagues/NBA_{}_per_game.html'\n",
    "for year in years:\n",
    "    file_path = '../data/yearly_player_data/{}.html'.format(year)\n",
    "    try:  # Create a new file, if it already exists, raise a FileExistsError\n",
    "        with open(file_path, 'x', encoding='utf-8') as f:\n",
    "            url = base_url.format(year)\n",
    "            player_table_html = extract_yearly_player_table(url)\n",
    "            f.write(str(player_table_html))\n",
    "    except FileExistsError:\n",
    "        # If the file already exists, we can simply continue\n",
    "        continue"
   ]
  },
  {
   "cell_type": "code",
   "execution_count": null,
   "metadata": {},
   "outputs": [],
   "source": []
  },
  {
   "cell_type": "code",
   "execution_count": 18,
   "metadata": {},
   "outputs": [
    {
     "name": "stdout",
     "output_type": "stream",
     "text": [
      "      Rk              Player Pos Age   Tm   G  GS    MP   FG   FGA  ...  ORB  \\\n",
      "0      1      Alaa Abdelnaby  PF  22  POR  43   0   6.7  1.3   2.7  ...  0.6   \n",
      "1      2  Mahmoud Abdul-Rauf  PG  21  DEN  67  19  22.5  6.2  15.1  ...  0.5   \n",
      "2      3          Mark Acres   C  28  ORL  68   0  19.3  1.6   3.1  ...  2.1   \n",
      "3      4       Michael Adams  PG  28  DEN  66  66  35.5  8.5  21.5  ...  0.9   \n",
      "4      5        Mark Aguirre  SF  31  DET  78  13  25.7  5.4  11.7  ...  1.7   \n",
      "..   ...                 ...  ..  ..  ...  ..  ..   ...  ...   ...  ...  ...   \n",
      "725  536        Delon Wright  PG  28  SAC  27   8  25.8  3.9   8.3  ...  1.0   \n",
      "726  537      Thaddeus Young  PF  32  CHI  68  23  24.3  5.4   9.7  ...  2.5   \n",
      "727  538          Trae Young  PG  22  ATL  63  63  33.7  7.7  17.7  ...  0.6   \n",
      "728  539         Cody Zeller   C  28  CHO  48  21  20.9  3.8   6.8  ...  2.5   \n",
      "729  540         Ivica Zubac   C  23  LAC  72  33  22.3  3.6   5.5  ...  2.6   \n",
      "\n",
      "     DRB  TRB   AST  STL  BLK  TOV   PF   PTS  Year  \n",
      "0    1.4  2.1   0.3  0.1  0.3  0.5  0.9   3.1  1991  \n",
      "1    1.3  1.8   3.1  0.8  0.1  1.6  2.2  14.1  1991  \n",
      "2    3.2  5.3   0.4  0.4  0.4  0.6  3.2   4.2  1991  \n",
      "3    3.0  3.9  10.5  2.2  0.1  3.6  2.5  26.5  1991  \n",
      "4    3.1  4.8   1.8  0.6  0.3  1.6  2.7  14.2  1991  \n",
      "..   ...  ...   ...  ...  ...  ...  ...   ...   ...  \n",
      "725  2.9  3.9   3.6  1.6  0.4  1.3  1.1  10.0  2021  \n",
      "726  3.8  6.2   4.3  1.1  0.6  2.0  2.2  12.1  2021  \n",
      "727  3.3  3.9   9.4  0.8  0.2  4.1  1.8  25.3  2021  \n",
      "728  4.4  6.8   1.8  0.6  0.4  1.1  2.5   9.4  2021  \n",
      "729  4.6  7.2   1.3  0.3  0.9  1.1  2.6   9.0  2021  \n",
      "\n",
      "[18044 rows x 31 columns]\n"
     ]
    }
   ],
   "source": [
    "\"\"\"\n",
    "For each of our downloaded yearly player stats table HTML files: \n",
    "- Read the table HTML into a pandas dataframe\n",
    "- Add a year column to the given dataframe \n",
    "- Combine the dataframe with all of our other yearly player stat dataframes\n",
    "Write the combined dataframe to a CSV file and download it\n",
    "\"\"\"\n",
    "dfs = []\n",
    "for year in years:\n",
    "    file_path = '../data/yearly_player_data/{}.html'.format(year)\n",
    "    with open(file_path, 'r', encoding='utf-8') as f:\n",
    "        player_table_html = f.read()\n",
    "        # Wrap the raw HTML in stringIO before parsing for error-free pandas reading\n",
    "        player_table_dataframe = pd.read_html(StringIO(str(player_table_html)))[0]\n",
    "        player_table_dataframe['Year'] = year\n",
    "        dfs.append(player_table_dataframe)\n",
    "\n",
    "combined_df : pd.DataFrame= pd.concat(dfs)\n",
    "\n",
    "    "
   ]
  },
  {
   "cell_type": "code",
   "execution_count": 23,
   "metadata": {},
   "outputs": [
    {
     "name": "stdout",
     "output_type": "stream",
     "text": [
      "  Rk              Player Pos Age   Tm   G  GS    MP   FG   FGA  ...  ORB  DRB  \\\n",
      "0  1      Alaa Abdelnaby  PF  22  POR  43   0   6.7  1.3   2.7  ...  0.6  1.4   \n",
      "1  2  Mahmoud Abdul-Rauf  PG  21  DEN  67  19  22.5  6.2  15.1  ...  0.5  1.3   \n",
      "2  3          Mark Acres   C  28  ORL  68   0  19.3  1.6   3.1  ...  2.1  3.2   \n",
      "3  4       Michael Adams  PG  28  DEN  66  66  35.5  8.5  21.5  ...  0.9  3.0   \n",
      "4  5        Mark Aguirre  SF  31  DET  78  13  25.7  5.4  11.7  ...  1.7  3.1   \n",
      "\n",
      "   TRB   AST  STL  BLK  TOV   PF   PTS  Year  \n",
      "0  2.1   0.3  0.1  0.3  0.5  0.9   3.1  1991  \n",
      "1  1.8   3.1  0.8  0.1  1.6  2.2  14.1  1991  \n",
      "2  5.3   0.4  0.4  0.4  0.6  3.2   4.2  1991  \n",
      "3  3.9  10.5  2.2  0.1  3.6  2.5  26.5  1991  \n",
      "4  4.8   1.8  0.6  0.3  1.6  2.7  14.2  1991  \n",
      "\n",
      "[5 rows x 31 columns]\n"
     ]
    }
   ],
   "source": [
    "print(combined_df.head())\n",
    "combined_df.to_csv('../data/player_stats_1991-2022.csv')"
   ]
  }
 ],
 "metadata": {
  "kernelspec": {
   "display_name": "venv",
   "language": "python",
   "name": "python3"
  },
  "language_info": {
   "codemirror_mode": {
    "name": "ipython",
    "version": 3
   },
   "file_extension": ".py",
   "mimetype": "text/x-python",
   "name": "python",
   "nbconvert_exporter": "python",
   "pygments_lexer": "ipython3",
   "version": "3.10.4"
  }
 },
 "nbformat": 4,
 "nbformat_minor": 2
}
