{
 "cells": [
  {
   "cell_type": "code",
   "execution_count": 10,
   "metadata": {},
   "outputs": [],
   "source": [
    "from selenium import webdriver\n",
    "from selenium.webdriver.chrome.service import Service\n",
    "from bs4 import BeautifulSoup\n",
    "from scraping_utils import years\n",
    "import pandas as pd\n",
    "import time\n",
    "from io import StringIO"
   ]
  },
  {
   "cell_type": "code",
   "execution_count": 11,
   "metadata": {},
   "outputs": [],
   "source": [
    "def parse_html(html):\n",
    "    \"\"\"\n",
    "    Extracts the player stats table from the given HTML page. Strips the web\n",
    "    page of unnecessary info, returning the relevant mvp table for the page.\n",
    "    :param page: HTML content of the web page.\n",
    "    :return: BeautifulSoup object containing the player table.\n",
    "    \"\"\"\n",
    "    soup = BeautifulSoup(html, 'html.parser')\n",
    "    # Remove redundant rows that repeat row 0 (the list of cols)\n",
    "    for tr in soup.find_all('tr', class_='thead'):\n",
    "        tr.decompose()\n",
    "    # Extract the specific table containing the table with per game stats for\n",
    "    # each player for the given year\n",
    "    player_table = soup.find(id='per_game_stats')\n",
    "    return player_table"
   ]
  },
  {
   "cell_type": "code",
   "execution_count": 12,
   "metadata": {},
   "outputs": [],
   "source": [
    "def extract_yearly_player_table(url):\n",
    "    \"\"\"\n",
    "    Initiates chrome instnances with selenium to obtain the full HTML player stats table,\n",
    "    parses this HTML with BeautifulSoup and returns a cleaned version\n",
    "    :param url: the url we want to scrape data from\n",
    "    :return: the HTML string of the specific table we'd like to retrieve \n",
    "    \"\"\"\n",
    "    chrome_driver_path = \"C:/Users/bmurr/Downloads/PersonalProjects/NBA_MVP_Predictor/venv/Lib/site-packages/seleniumbase/drivers/chromedriver.exe\"\n",
    "    # Create a service to start and manage the chrome driver server\n",
    "    service = Service(chrome_driver_path)\n",
    "    # Create a driver to control our browser\n",
    "    driver = webdriver.Chrome(service=service)\n",
    "\n",
    "    driver.get(url=url)  # Render our URL in our chrome browser\n",
    "\n",
    "    # Run JS in the browser to render full table\n",
    "    # JS code means: \"scroll all the way down so that the full table renders\"\n",
    "    driver.execute_script(\"window.scroll(1,10000)\")\n",
    "\n",
    "    time.sleep(2)  # Give the browser appropriate time to execute the script\n",
    "\n",
    "    html = driver.page_source  # Get the fully rendered HTML\n",
    "    return parse_html(html)"
   ]
  },
  {
   "cell_type": "code",
   "execution_count": 13,
   "metadata": {},
   "outputs": [],
   "source": [
    "\"\"\"\n",
    "For each year we are scraping data for, grab the player statistics table from basketball reference\n",
    "- Use selenium to run JS to load the full player statistics page's HTML\n",
    "- Parse the fully-rendered HTML to extract the player-per-game stats table\n",
    "- Download the table to files in our data directory\n",
    "\"\"\"\n",
    "base_url = 'https://www.basketball-reference.com/leagues/NBA_{}_per_game.html'\n",
    "for year in years:\n",
    "    file_path = '../data/yearly_player_data/{}.html'.format(year)\n",
    "    try:  # Create a new file, if it already exists, raise a FileExistsError\n",
    "        with open(file_path, 'x', encoding='utf-8') as f:\n",
    "            url = base_url.format(year)\n",
    "            player_table_html = extract_yearly_player_table(url)\n",
    "            f.write(str(player_table_html))\n",
    "    except FileExistsError:\n",
    "        # If the file already exists, we can simply continue\n",
    "        continue"
   ]
  },
  {
   "cell_type": "code",
   "execution_count": 14,
   "metadata": {},
   "outputs": [],
   "source": [
    "\"\"\"\n",
    "For each of our downloaded yearly player stats table HTML files: \n",
    "- Read the table HTML into a pandas dataframe\n",
    "- Add a year column to the given dataframe \n",
    "- Combine the dataframe with all of our other yearly player stat dataframes\n",
    "Write the combined dataframe to a CSV file and download it\n",
    "\"\"\"\n",
    "dfs = []\n",
    "for year in years:\n",
    "    file_path = '../data/yearly_player_data/{}.html'.format(year)\n",
    "    with open(file_path, 'r', encoding='utf-8') as f:\n",
    "        player_table_html = f.read()\n",
    "        # Wrap the raw HTML in stringIO before parsing for error-free pandas reading\n",
    "        player_table_dataframe = pd.read_html(StringIO(str(player_table_html)))[0]\n",
    "        player_table_dataframe['Year'] = year\n",
    "        dfs.append(player_table_dataframe)\n",
    "\n",
    "combined_df : pd.DataFrame= pd.concat(dfs)\n",
    "\n",
    "    "
   ]
  },
  {
   "cell_type": "code",
   "execution_count": 15,
   "metadata": {},
   "outputs": [],
   "source": [
    "combined_df[combined_df['Player'] == 'James Harden']\n",
    "combined_df.to_csv('../data/player_stats_1991-2022.csv',index=False)"
   ]
  }
 ],
 "metadata": {
  "kernelspec": {
   "display_name": "venv",
   "language": "python",
   "name": "python3"
  },
  "language_info": {
   "codemirror_mode": {
    "name": "ipython",
    "version": 3
   },
   "file_extension": ".py",
   "mimetype": "text/x-python",
   "name": "python",
   "nbconvert_exporter": "python",
   "pygments_lexer": "ipython3",
   "version": "3.10.4"
  }
 },
 "nbformat": 4,
 "nbformat_minor": 2
}
