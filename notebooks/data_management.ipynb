{
 "cells": [
  {
   "cell_type": "code",
   "execution_count": null,
   "metadata": {},
   "outputs": [],
   "source": [
    "import pandas as pd\n",
    "\n",
    "\n",
    "def load_yearly_mvp_data(year):\n",
    "    \"\"\"\n",
    "    Load MVP data from an HTML file for a specific year.\n",
    "\n",
    "    :param year: Year for data loading.\n",
    "    :return a DataFrame formed by reading the scraped and downloaded HTML table\n",
    "    corresponding to the given year\n",
    "    :rtype pd.DataFrame\n",
    "    :raises FileNotFoundError: If HTML file is not found.\n",
    "    :raises ValueError: If no tables are in the HTML file.\n",
    "    \"\"\"\n",
    "    file_path_template = 'src/yearly_mvp_data/{}.html'\n",
    "    file_path = file_path_template.format(year)\n",
    "    try:\n",
    "        # Load the data from the html for each year into a pandas DataFrame\n",
    "        # The mvp table is the 0th table in the html\n",
    "        return pd.read_html(file_path)[0]\n",
    "    except FileNotFoundError:\n",
    "        raise FileNotFoundError(f\"File for year {year} not found.\")\n",
    "    except ValueError:\n",
    "        raise ValueError(f\"No table found in file for year {year}.\")\n",
    "\n",
    "\n",
    "def create_yearly_mvp_csv(years):\n",
    "    \"\"\"\n",
    "    Process and combine yearly MVP data from HTML files into a single DataFrame.\n",
    "    Write the dataframe to a CSV\n",
    "    :param years: A list of years for which the MVP data needs to be processed.\n",
    "    :return: A dataframe formed by concatenating each yearly MVP dataframe.\n",
    "    Each yearly MVP dataframe is formed by reading the html table for the year\n",
    "    :raises FileNotFoundError: If an HTML file for a specified year is not found.\n",
    "    :raises ValueError: If the HTML file does not contain any tables.\n",
    "    \"\"\"\n",
    "    dataframe_list = []  # Store a list to hold all of our dataframes\n",
    "    for year in years:\n",
    "        curr_df = load_yearly_mvp_data(year)\n",
    "        # Add a year column to the current df\n",
    "        curr_df['Year'] = year\n",
    "        dataframe_list.append(curr_df)\n",
    "    # Combine all yearly DataFrames into a single DataFrame\n",
    "    mvp_df: pd.DataFrame = pd.concat(dataframe_list)\n",
    "    # Now we have one data frame with all mvp voting from 1991 to 2022\n",
    "    # Store the data in csv format\n",
    "    mvp_df.to_csv('scraping_tools/mvp_voting_1991-2022.csv')\n",
    "    return mvp_df\n",
    "\n"
   ]
  }
 ],
 "metadata": {
  "kernelspec": {
   "display_name": "venv",
   "language": "python",
   "name": "python3"
  },
  "language_info": {
   "name": "python",
   "version": "3.10.4"
  }
 },
 "nbformat": 4,
 "nbformat_minor": 2
}
