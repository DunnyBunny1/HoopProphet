{
 "cells": [
  {
   "cell_type": "code",
   "execution_count": 1,
   "metadata": {},
   "outputs": [],
   "source": [
    "from selenium import webdriver\n",
    "from selenium.webdriver.chrome.service import Service\n",
    "import time\n",
    "chrome_driver_path = \"C:/Users/bmurr/Downloads/PersonalProjects/NBA_MVP_Predictor/venv/Lib/site-packages/seleniumbase/drivers/chromedriver.exe\"\n",
    "\n",
    "# Create a service to start and manage the chrome driver server\n",
    "service = Service(chrome_driver_path)\n",
    "# Create a driver to control our browser\n",
    "# driver = webdriver.Chrome(service=service)\n",
    "driver = webdriver.Chrome(service=service)\n",
    "\n",
    "# Navigate to this URL\n",
    "driver.get(\"https://www.bing.com\")\n",
    "time.sleep(4)\n",
    "# Close the web browser window when we are done\n",
    "driver.close()\n"
   ]
  }
 ],
 "metadata": {
  "kernelspec": {
   "display_name": "venv",
   "language": "python",
   "name": "python3"
  },
  "language_info": {
   "codemirror_mode": {
    "name": "ipython",
    "version": 3
   },
   "file_extension": ".py",
   "mimetype": "text/x-python",
   "name": "python",
   "nbconvert_exporter": "python",
   "pygments_lexer": "ipython3",
   "version": "3.10.4"
  }
 },
 "nbformat": 4,
 "nbformat_minor": 2
}
